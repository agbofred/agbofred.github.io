{
 "cells": [
  {
   "cell_type": "markdown",
   "id": "dba78cdf",
   "metadata": {},
   "source": [
    "# 🔍 Hash Function Distribution Exploration\n",
    "This notebook helps you analyze the distribution of various hash functions and reflect on their behavior."
   ]
  },
  {
   "cell_type": "markdown",
   "id": "03620226",
   "metadata": {},
   "source": [
    "## Setup"
   ]
  },
  {
   "cell_type": "code",
   "execution_count": null,
   "id": "1dacce3d",
   "metadata": {},
   "outputs": [],
   "source": [
    "import matplotlib.pyplot as plt\n",
    "from collections import defaultdict\n",
    "import hashlib\n",
    "import statistics"
   ]
  },
  {
   "cell_type": "markdown",
   "id": "5aff976e",
   "metadata": {},
   "source": [
    "## Utility Function: Bucket Distribution"
   ]
  },
  {
   "cell_type": "code",
   "execution_count": null,
   "id": "5122e02c",
   "metadata": {},
   "outputs": [],
   "source": [
    "def bucket_distribution(data, num_buckets, hash_fn):\n",
    "    buckets = defaultdict(list)\n",
    "    for item in data:\n",
    "        bucket = hash_fn(item) % num_buckets\n",
    "        buckets[bucket].append(item)\n",
    "    return buckets"
   ]
  },
  {
   "cell_type": "markdown",
   "id": "1bd223bc",
   "metadata": {},
   "source": [
    "## Hash Function Definitions"
   ]
  },
  {
   "cell_type": "code",
   "execution_count": null,
   "id": "532bee6a",
   "metadata": {},
   "outputs": [],
   "source": [
    "def poor_hash(key):\n",
    "    return len(key)\n",
    "\n",
    "def simple_ascii_sum(key):\n",
    "    return sum(ord(char) for char in key)\n",
    "\n",
    "def hash_sha256(key):\n",
    "    return int(hashlib.sha256(key.encode()).hexdigest(), 16)"
   ]
  },
  {
   "cell_type": "markdown",
   "id": "f0d24b33",
   "metadata": {},
   "source": [
    "## Dataset and Plotting Utility"
   ]
  },
  {
   "cell_type": "code",
   "execution_count": null,
   "id": "d06dc3d0",
   "metadata": {},
   "outputs": [],
   "source": [
    "data = [f\"key{i}\" for i in range(1000)]\n",
    "num_buckets = 10\n",
    "\n",
    "def plot_distribution(title, counts):\n",
    "    plt.bar(range(len(counts)), counts)\n",
    "    plt.title(title)\n",
    "    plt.xlabel(\"Bucket\")\n",
    "    plt.ylabel(\"# of Keys\")\n",
    "    plt.show()"
   ]
  },
  {
   "cell_type": "markdown",
   "id": "e63c30ab",
   "metadata": {},
   "source": [
    "## Example 1: Python Built-in `hash()`"
   ]
  },
  {
   "cell_type": "code",
   "execution_count": null,
   "id": "d009b5bf",
   "metadata": {},
   "outputs": [],
   "source": [
    "buckets = bucket_distribution(data, num_buckets, hash)\n",
    "counts = [len(buckets[i]) for i in range(num_buckets)]\n",
    "plot_distribution(\"Bucket Distribution with Built-in hash()\", counts)"
   ]
  },
  {
   "cell_type": "markdown",
   "id": "b7865e03",
   "metadata": {},
   "source": [
    "## Example 2: Poor Hash Function (`len(key)`)"
   ]
  },
  {
   "cell_type": "code",
   "execution_count": null,
   "id": "ba1ee54b",
   "metadata": {},
   "outputs": [],
   "source": [
    "buckets = bucket_distribution(data, num_buckets, poor_hash)\n",
    "counts = [len(buckets[i]) for i in range(num_buckets)]\n",
    "plot_distribution(\"Poor Hash Function: len(key)\", counts)"
   ]
  },
  {
   "cell_type": "markdown",
   "id": "1f004650",
   "metadata": {},
   "source": [
    "## Example 3: ASCII Sum Hash"
   ]
  },
  {
   "cell_type": "code",
   "execution_count": null,
   "id": "954ace9e",
   "metadata": {},
   "outputs": [],
   "source": [
    "buckets = bucket_distribution(data, num_buckets, simple_ascii_sum)\n",
    "counts = [len(buckets[i]) for i in range(num_buckets)]\n",
    "plot_distribution(\"Simple ASCII Sum Hash Function\", counts)"
   ]
  },
  {
   "cell_type": "markdown",
   "id": "625688fa",
   "metadata": {},
   "source": [
    "## Example 4: SHA-256 Hash"
   ]
  },
  {
   "cell_type": "code",
   "execution_count": null,
   "id": "77481b8e",
   "metadata": {},
   "outputs": [],
   "source": [
    "buckets = bucket_distribution(data, num_buckets, hash_sha256)\n",
    "counts = [len(buckets[i]) for i in range(num_buckets)]\n",
    "plot_distribution(\"SHA-256 Hash Function\", counts)"
   ]
  },
  {
   "cell_type": "markdown",
   "id": "817d604c",
   "metadata": {},
   "source": [
    "## 🧮 Metrics for Last Distribution"
   ]
  },
  {
   "cell_type": "code",
   "execution_count": null,
   "id": "c4923654",
   "metadata": {},
   "outputs": [],
   "source": [
    "std_dev = statistics.stdev(counts)\n",
    "max_bucket = max(counts)\n",
    "collisions = sum(count - 1 for count in counts if count > 1)\n",
    "\n",
    "print(\"=== Distribution Metrics ===\")\n",
    "print(f\"Standard Deviation: {std_dev:.2f}\")\n",
    "print(f\"Max Bucket Size: {max_bucket}\")\n",
    "print(f\"Collisions: {collisions}\")"
   ]
  },
  {
   "cell_type": "markdown",
   "id": "47d04107",
   "metadata": {},
   "source": [
    "## ✍️ Reflective Prompt #1"
   ]
  },
  {
   "cell_type": "markdown",
   "id": "ebf0d81e",
   "metadata": {},
   "source": [
    "**Observation-based Prompt:**\n",
    "\n",
    "Looking at the bucket distributions across the different hash functions, which one surprised you the most and why? What patterns or anomalies did you observe that you did not expect?"
   ]
  },
  {
   "cell_type": "code",
   "execution_count": null,
   "id": "3a979d2c",
   "metadata": {},
   "outputs": [],
   "source": [
    "# Write your reflection here\n"
   ]
  },
  {
   "cell_type": "markdown",
   "id": "bc95e2dc",
   "metadata": {},
   "source": [
    "## ✍️ Reflective Prompt #2"
   ]
  },
  {
   "cell_type": "markdown",
   "id": "484e6804",
   "metadata": {},
   "source": [
    "**Curiosity Prompt:**\n",
    "\n",
    "If you had to design your own hash function, what strategies would you use to ensure a balanced bucket distribution? What kind of inputs might break a poorly designed hash function?"
   ]
  },
  {
   "cell_type": "code",
   "execution_count": null,
   "id": "8e6b37c0",
   "metadata": {},
   "outputs": [],
   "source": [
    "# Write your response here\n"
   ]
  }
 ],
 "metadata": {},
 "nbformat": 4,
 "nbformat_minor": 5
}