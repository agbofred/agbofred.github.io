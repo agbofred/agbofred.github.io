{
 "cells": [
  {
   "cell_type": "markdown",
   "id": "016adbd8",
   "metadata": {},
   "source": [
    "# Hash Function Distribution Examples\n",
    "This notebook contains Python code examples for evaluating hash function distribution across buckets."
   ]
  },
  {
   "cell_type": "code",
   "execution_count": null,
   "id": "23910e86",
   "metadata": {},
   "outputs": [],
   "source": [
    "import matplotlib.pyplot as plt\n",
    "from collections import defaultdict\n",
    "import hashlib\n",
    "import statistics"
   ]
  },
  {
   "cell_type": "markdown",
   "id": "2960cd08",
   "metadata": {},
   "source": [
    "## Utility Function: Bucket Distribution"
   ]
  },
  {
   "cell_type": "code",
   "execution_count": null,
   "id": "4c88ff01",
   "metadata": {},
   "outputs": [],
   "source": [
    "def bucket_distribution(data, num_buckets, hash_fn):\n",
    "    buckets = defaultdict(list)\n",
    "    for item in data:\n",
    "        bucket = hash_fn(item) % num_buckets\n",
    "        buckets[bucket].append(item)\n",
    "    return buckets"
   ]
  },
  {
   "cell_type": "markdown",
   "id": "54bb555f",
   "metadata": {},
   "source": [
    "## Hash Function Definitions"
   ]
  },
  {
   "cell_type": "code",
   "execution_count": null,
   "id": "ead8945d",
   "metadata": {},
   "outputs": [],
   "source": [
    "def poor_hash(key):\n",
    "    return len(key)\n",
    "\n",
    "def simple_ascii_sum(key):\n",
    "    return sum(ord(char) for char in key)\n",
    "\n",
    "def hash_sha256(key):\n",
    "    return int(hashlib.sha256(key.encode()).hexdigest(), 16)"
   ]
  },
  {
   "cell_type": "markdown",
   "id": "8563e285",
   "metadata": {},
   "source": [
    "## Dataset and Plotting Utility"
   ]
  },
  {
   "cell_type": "code",
   "execution_count": null,
   "id": "caeca4fb",
   "metadata": {},
   "outputs": [],
   "source": [
    "data = [f\"key{i}\" for i in range(1000)]\n",
    "num_buckets = 10\n",
    "\n",
    "def plot_distribution(title, counts):\n",
    "    plt.bar(range(len(counts)), counts)\n",
    "    plt.title(title)\n",
    "    plt.xlabel(\"Bucket\")\n",
    "    plt.ylabel(\"# of Keys\")\n",
    "    plt.show()"
   ]
  },
  {
   "cell_type": "markdown",
   "id": "e8911f53",
   "metadata": {},
   "source": [
    "## Example 1: Python Built-in hash()"
   ]
  },
  {
   "cell_type": "code",
   "execution_count": null,
   "id": "bc164d07",
   "metadata": {},
   "outputs": [],
   "source": [
    "buckets = bucket_distribution(data, num_buckets, hash)\n",
    "counts = [len(buckets[i]) for i in range(num_buckets)]\n",
    "plot_distribution(\"Bucket Distribution with Built-in hash()\", counts)"
   ]
  },
  {
   "cell_type": "markdown",
   "id": "aa84850e",
   "metadata": {},
   "source": [
    "## Example 2: Poor Hash Function (len of key)"
   ]
  },
  {
   "cell_type": "code",
   "execution_count": null,
   "id": "0c83c002",
   "metadata": {},
   "outputs": [],
   "source": [
    "buckets = bucket_distribution(data, num_buckets, poor_hash)\n",
    "counts = [len(buckets[i]) for i in range(num_buckets)]\n",
    "plot_distribution(\"Poor Hash Function: len(key)\", counts)"
   ]
  },
  {
   "cell_type": "markdown",
   "id": "bf37655c",
   "metadata": {},
   "source": [
    "## Example 3: Simple ASCII Sum"
   ]
  },
  {
   "cell_type": "code",
   "execution_count": null,
   "id": "57c91a66",
   "metadata": {},
   "outputs": [],
   "source": [
    "buckets = bucket_distribution(data, num_buckets, simple_ascii_sum)\n",
    "counts = [len(buckets[i]) for i in range(num_buckets)]\n",
    "plot_distribution(\"Simple ASCII Sum Hash Function\", counts)"
   ]
  },
  {
   "cell_type": "markdown",
   "id": "fec7c355",
   "metadata": {},
   "source": [
    "## Example 4: SHA-256"
   ]
  },
  {
   "cell_type": "code",
   "execution_count": null,
   "id": "5a0992bc",
   "metadata": {},
   "outputs": [],
   "source": [
    "buckets = bucket_distribution(data, num_buckets, hash_sha256)\n",
    "counts = [len(buckets[i]) for i in range(num_buckets)]\n",
    "plot_distribution(\"SHA-256 Hash Function\", counts)"
   ]
  },
  {
   "cell_type": "markdown",
   "id": "405d83b4",
   "metadata": {},
   "source": [
    "## Metrics for Last Distribution"
   ]
  },
  {
   "cell_type": "code",
   "execution_count": null,
   "id": "117837bd",
   "metadata": {},
   "outputs": [],
   "source": [
    "std_dev = statistics.stdev(counts)\n",
    "max_bucket = max(counts)\n",
    "collisions = sum(count - 1 for count in counts if count > 1)\n",
    "\n",
    "print(\"=== Distribution Metrics ===\")\n",
    "print(f\"Standard Deviation: {std_dev:.2f}\")\n",
    "print(f\"Max Bucket Size: {max_bucket}\")\n",
    "print(f\"Collisions: {collisions}\")"
   ]
  }
 ],
 "metadata": {},
 "nbformat": 4,
 "nbformat_minor": 5
}